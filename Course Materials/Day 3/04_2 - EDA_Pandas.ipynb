{
 "cells": [
  {
   "cell_type": "markdown",
   "metadata": {
    "slideshow": {
     "slide_type": "slide"
    }
   },
   "source": [
    "# Python for Data Science & Analysis \n",
    "## Notes 3.1, Exploratory Data Analysis & Visualization"
   ]
  },
  {
   "cell_type": "markdown",
   "metadata": {
    "slideshow": {
     "slide_type": "slide"
    }
   },
   "source": [
    "## Objectives\n",
    "* describe a standard EDA workflow\n",
    "* EXTRA: describe a standard communication & reporting process\n",
    "* write a program which uses pandas to:\n",
    "    * obtain a subset of columns using list indexes\n",
    "    * obtain a subset of rows using locator syntax  \n",
    "    * obtain descriptive statistics \n",
    "    * applies a test to a column to discretize it\n",
    "    * factor a continuous column with a discrete column\n",
    "* write a program which uses seaborn and matplotlib to:\n",
    "    * show univariate plots (eg., distplot)\n",
    "    * show multivariate plots (eg., scatterplot)\n",
    "    * EXTRA: customize plots"
   ]
  },
  {
   "cell_type": "markdown",
   "metadata": {
    "slideshow": {
     "slide_type": "slide"
    }
   },
   "source": [
    "# Part 1: What is EDA?"
   ]
  },
  {
   "cell_type": "markdown",
   "metadata": {
    "slideshow": {
     "slide_type": "slide"
    }
   },
   "source": [
    "## What is Exploratory Data Analysis?"
   ]
  },
  {
   "cell_type": "markdown",
   "metadata": {
    "slideshow": {
     "slide_type": "fragment"
    }
   },
   "source": [
    "* goal:\n",
    "    * investigate\n",
    "    * explain\n",
    "    * describe\n",
    "    * understand"
   ]
  },
  {
   "cell_type": "markdown",
   "metadata": {
    "slideshow": {
     "slide_type": "slide"
    }
   },
   "source": [
    "* questions?\n",
    "    * is there enough data?\n",
    "    * is the data correct?\n",
    "    * what is the distribution of each column?\n",
    "    * how do the columns correlate?"
   ]
  },
  {
   "cell_type": "markdown",
   "metadata": {
    "slideshow": {
     "slide_type": "fragment"
    }
   },
   "source": [
    "* method\n",
    "    * visual\n",
    "    * primarily descriptive"
   ]
  },
  {
   "cell_type": "markdown",
   "metadata": {
    "slideshow": {
     "slide_type": "slide"
    }
   },
   "source": [
    "## What are the tools for EDA in Python?"
   ]
  },
  {
   "cell_type": "markdown",
   "metadata": {
    "slideshow": {
     "slide_type": "fragment"
    }
   },
   "source": [
    "Simple pair: Pandas for data exploration, seaborn for visualization.\n",
    "\n",
    "\n",
    "...but lots of options. "
   ]
  },
  {
   "cell_type": "markdown",
   "metadata": {
    "slideshow": {
     "slide_type": "slide"
    }
   },
   "source": [
    "## What are the challenges around EDA?"
   ]
  },
  {
   "cell_type": "markdown",
   "metadata": {
    "slideshow": {
     "slide_type": "slide"
    }
   },
   "source": [
    "### Challenges of EDA:\n",
    "\n",
    "* Strategic \n",
    "* Organizational\n",
    "* Technical "
   ]
  },
  {
   "cell_type": "markdown",
   "metadata": {
    "slideshow": {
     "slide_type": "slide"
    }
   },
   "source": [
    "# Part 2: EDA with Pandas"
   ]
  },
  {
   "cell_type": "code",
   "execution_count": null,
   "metadata": {
    "slideshow": {
     "slide_type": "fragment"
    }
   },
   "outputs": [],
   "source": [
    "import pandas as pd\n",
    "\n",
    "df = pd.read_csv('datasets/titanic.csv')\n"
   ]
  },
  {
   "cell_type": "markdown",
   "metadata": {
    "slideshow": {
     "slide_type": "slide"
    }
   },
   "source": [
    "## How do we EDA with Pandas?"
   ]
  },
  {
   "cell_type": "markdown",
   "metadata": {
    "slideshow": {
     "slide_type": "fragment"
    }
   },
   "source": [
    "* data quality, structure, etc. metrics; $\\rightarrow$ `.info()`\n",
    "* descriptive stats for all single columns; $\\rightarrow$ `.describe()`, `.mean()`, `.value_counts()`\n",
    "* descriptive stats for all pairs of columns; $\\rightarrow$ `.corr()`\n",
    "* domain-specific row subsets; $\\rightarrow$ `df.loc`\n",
    "* introduce factoring columns; $\\rightarrow$ `.groupby`\n",
    "* introduce domain-specific novel columns; $\\rightarrow$ `df['bmi'] = df['w'] / df['h'] ** 2`\n",
    "\n",
    "    "
   ]
  },
  {
   "cell_type": "markdown",
   "metadata": {
    "slideshow": {
     "slide_type": "fragment"
    }
   },
   "source": [
    "The purpose of computing a correlation score (default: pearson) is to determine *possible* relationships, rather than accurately measure correlation.\n",
    "\n",
    "Note the *sign* of the score, and it's rough magnitude. You should plot all columns and pairs *regardless*. "
   ]
  },
  {
   "cell_type": "markdown",
   "metadata": {
    "slideshow": {
     "slide_type": "slide"
    }
   },
   "source": [
    "## Exercise (20 min)"
   ]
  },
  {
   "cell_type": "markdown",
   "metadata": {
    "slideshow": {
     "slide_type": "fragment"
    }
   },
   "source": [
    "Perform an EDA of the titanic dataset with pandas, include:\n",
    "\n",
    "* data quality, structure, etc. metrics\n",
    "    * `.info()`, `.isna().sum()`, etc.\n",
    "* descriptive stats for all single columns\n",
    "    * `.describe()`, `.mean()`, `.median()`, `.std()`, `.value_counts()`\n",
    "* descriptive stats for all pairs of columns\n",
    "    * ie., `.corr()`"
   ]
  }
 ],
 "metadata": {
  "kernelspec": {
   "display_name": "Python 3",
   "language": "python",
   "name": "python3"
  },
  "language_info": {
   "codemirror_mode": {
    "name": "ipython",
    "version": 3
   },
   "file_extension": ".py",
   "mimetype": "text/x-python",
   "name": "python",
   "nbconvert_exporter": "python",
   "pygments_lexer": "ipython3",
   "version": "3.7.4"
  }
 },
 "nbformat": 4,
 "nbformat_minor": 4
}
