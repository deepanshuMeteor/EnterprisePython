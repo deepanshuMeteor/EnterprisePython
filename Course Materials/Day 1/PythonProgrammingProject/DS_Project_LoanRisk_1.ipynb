{
 "cells": [
  {
   "cell_type": "markdown",
   "metadata": {},
   "source": [
    "# Python Data Science & Analysis \n",
    "### Project: Credit Risk Assessment "
   ]
  },
  {
   "cell_type": "markdown",
   "metadata": {},
   "source": [
    "# Abstract"
   ]
  },
  {
   "cell_type": "markdown",
   "metadata": {},
   "source": [
    "You are hired as part of a data science team at a fintech start up. The start up has offered loans of $£1,000$ to $1000$ customers in various groups of interest in order to collect data on their likelihood of repayment.  \n",
    "\n",
    "Your roles is to offer an account or predictive model of what factors lead to loan default. And thereby advise the new company on its loan strategy. \n",
    "\n",
    "The company has collected the following data:\n",
    "\n",
    "```\n",
    " \"ID\",         Customer ID\n",
    " \"Income\",     Annual Pre-Tax Income on-application\n",
    " \"Term\" ,      Short or Long Term (6mo or 12mo)\n",
    " \"Balance\",    Current Account Balance on-application\n",
    " \"Debt\" ,      Outstanding Debt on-application\n",
    " \"Score\",      Credit Score (from referencing agency)\n",
    " \"Default\"     Observed Default (True = Default, False = Settle\n",
    "```"
   ]
  },
  {
   "cell_type": "markdown",
   "metadata": {},
   "source": [
    "# Part 1: Rules"
   ]
  },
  {
   "cell_type": "markdown",
   "metadata": {},
   "source": [
    "Your first project is to consider the application of a single customer and prototype rules which could predict whether they defaulted or not. \n",
    "\n",
    "```python\n",
    "\n",
    "customer = (690, 14300., 'Short Term', 1190., 87., 63., False)\n",
    "\n",
    "```"
   ]
  },
  {
   "cell_type": "markdown",
   "metadata": {},
   "source": [
    "### Q. Define a variable `columns` to hold the column names"
   ]
  },
  {
   "cell_type": "markdown",
   "metadata": {},
   "source": [
    "Goal: your code should contain a variable which lists the names of the columns in text. "
   ]
  },
  {
   "cell_type": "markdown",
   "metadata": {},
   "source": [
    "### Q. Define `customer` as above"
   ]
  },
  {
   "cell_type": "markdown",
   "metadata": {},
   "source": [
    "Goal: include the customer variable defined above. "
   ]
  },
  {
   "cell_type": "markdown",
   "metadata": {},
   "source": [
    "### Q. Print the customer details out (the field name and value)"
   ]
  },
  {
   "cell_type": "markdown",
   "metadata": {},
   "source": [
    "Goal: your code should `print()` details of the customer's loan. \n",
    "\n",
    "The output can anything so long as you can see, eg., their income `14300`. \n",
    "\n",
    "Consider formatting the output futher than this, eg., use `columns` above. "
   ]
  },
  {
   "cell_type": "markdown",
   "metadata": {},
   "source": [
    "```\n",
    "SAMPLE OUTPUT:\n",
    "\n",
    "ID 690\n",
    "Income 14300.0\n",
    "Term Short Term\n",
    "Balance 1190.0\n",
    "Debt 87.0\n",
    "Score 63.0\n",
    "Default False\n",
    "```"
   ]
  },
  {
   "cell_type": "markdown",
   "metadata": {},
   "source": [
    "### Q. Print a prediction and observation\n",
    "\n",
    "1. Goal: print the observed default \n",
    "    * HINT: the last element of `customer`\n",
    "    * HINT: perhaps include the word \"observation\" in the output\n",
    "    \n",
    "---\n",
    "2. Goal: compute and print a prediction\n",
    "    * eg., include an `if` that the customer score is $< 200$\n",
    "        * print `True` for the prediction\n",
    "        * otherwise, `False`\n",
    "    \n",
    "    "
   ]
  },
  {
   "cell_type": "markdown",
   "metadata": {},
   "source": [
    "```\n",
    "SAMPLE OUTPUT:\n",
    "\n",
    "observation: False\n",
    "prediction: True\n",
    "```"
   ]
  },
  {
   "cell_type": "markdown",
   "metadata": {},
   "source": [
    "### Q. Improve the prototype rule: consider income\n",
    "\n",
    "* Goal: Include a condition on the customer income\n",
    "    * HINT: eg., that the income is `< 25_000`\n",
    "    * HINT: ie., modify your `if` condition above"
   ]
  },
  {
   "cell_type": "markdown",
   "metadata": {},
   "source": [
    "```\n",
    "SAMPLE OUTPUT:\n",
    "\n",
    "observation: False\n",
    "prediction: True\n",
    "```"
   ]
  },
  {
   "cell_type": "markdown",
   "metadata": {},
   "source": [
    "### Q. Improve the prototype rule: consider term\n",
    "\n",
    "* Goal: Include a condition on the customer term\n",
    "    * HINT: eg., that `\"Long\"` is `in` the term\n",
    "    * HINT: eg., use `or` to combine conditions"
   ]
  },
  {
   "cell_type": "markdown",
   "metadata": {},
   "source": [
    "```\n",
    "SAMPLE OUTPUT:\n",
    "\n",
    "observation: False\n",
    "prediction: True\n",
    "```"
   ]
  },
  {
   "cell_type": "markdown",
   "metadata": {},
   "source": [
    "# Part 2: Datasets"
   ]
  },
  {
   "cell_type": "markdown",
   "metadata": {},
   "source": [
    "The company now provides a partial dataset. \n",
    "\n",
    "Your task is to apply your rules above and estimate your prediction error using them. "
   ]
  },
  {
   "cell_type": "markdown",
   "metadata": {},
   "source": [
    "### Q. Print out customer details\n",
    "\n",
    "Goal: your code should `print()` all loan details. \n",
    "\n",
    "* Start by defining a loop over `loans` \n",
    "* and printing eg., the customer id and income\n",
    "\n",
    "ie., consider your `print()` code above defined for a single `customer` and use it with a loop. "
   ]
  },
  {
   "cell_type": "markdown",
   "metadata": {},
   "source": [
    "```\n",
    "SAMPLE OUTPUT:\n",
    "\n",
    "ID: 215  \t Income: 37900.0\n",
    "ID: 442  \t Income: 78700.0\n",
    "ID: 22  \t Income: 41900.0\n",
    "ID: 711  \t Income: 24600.0\n",
    "ID: 113  \t Income: 33900.0\n",
    "ID: 91  \t Income: 23200.0\n",
    "ID: 268  \t Income: 17700.0\n",
    "ID: 735  \t Income: 37100.0\n",
    "ID: 971  \t Income: 35300.0\n",
    "ID: 858  \t Income: 16700.0\n",
    "```"
   ]
  },
  {
   "cell_type": "markdown",
   "metadata": {},
   "source": [
    "### Q. Print the score\n",
    "\n",
    "Goal: print their score if it exists. \n",
    "\n",
    "\n",
    "* Modify you loop above to print the customer score\n",
    "    * HINT: note that one of the scores is `None`\n",
    "    * HINT: include an `if`\n",
    "        * to skip the loop when `score is None` use `continue`\n"
   ]
  },
  {
   "cell_type": "markdown",
   "metadata": {},
   "source": [
    "```\n",
    "SAMPLE OUTPUT:\n",
    "\n",
    "Income: 37900\tID: 215  \t Score: 595\n",
    "Income: 78700\tID: 442  \t Score: 1000\n",
    "Income: 41900\tID: 22  \t Score: 372\n",
    "Income: 24600\tID: 711  \t Score: 385\n",
    "Income: 33900\tID: 113  \t Score: 456\n",
    "Income: 23200\tID: 91  \t Score: 264\n",
    "Income: 17700\tID: 268  \t Score: 289\n",
    "Income: 37100\tID: 735  \t Score: 661\n",
    "Income: 16700\tID: 858  \t Score: 201\n",
    "```"
   ]
  },
  {
   "cell_type": "markdown",
   "metadata": {},
   "source": [
    "### Q. Include predictions\n",
    "\n",
    "* Goal: Compute a prediction using a rule above\n",
    "    * eg., `prediction = (score < 200)` \n",
    "\n",
    "---\n",
    "\n",
    "* Goal: print all predictions.\n",
    "    * HINT: modify your loop to print `prediction`\n",
    "---\n",
    "* `print()` whether the prediction matches the observation\n",
    "    * HINT: compute  `prediction == default`"
   ]
  },
  {
   "cell_type": "markdown",
   "metadata": {},
   "source": [
    "```\n",
    "SAMPLE OUTPUT:\n",
    "\n",
    "Income: 37900\t\tScore: 595\tError: True\n",
    "Income: 78700\t\tScore: 1000\tError: True\n",
    "Income: 41900\t\tScore: 372\tError: True\n",
    "Income: 24600\t\tScore: 385\tError: True\n",
    "Income: 33900\t\tScore: 456\tError: True\n",
    "Income: 23200\t\tScore: 264\tError: True\n",
    "Income: 17700\t\tScore: 289\tError: False\n",
    "Income: 37100\t\tScore: 661\tError: True\n",
    "Income: 16700\t\tScore: 201\tError: False\n",
    "```"
   ]
  },
  {
   "cell_type": "markdown",
   "metadata": {},
   "source": [
    "### Q. Include an error\n",
    "\n",
    "Goal: Start a running error total from `0` before the loop.\n",
    "\n",
    "* define and initialize an `error` variable \n",
    "---\n",
    "\n",
    "Goal: Modify the loop so that you increase error by one.\n",
    "* HINT: *when* `prediction != default`\n",
    "* HINT: `+= 1`"
   ]
  },
  {
   "cell_type": "markdown",
   "metadata": {},
   "source": [
    "```\n",
    "SAMPLE OUTPUT:\n",
    "\n",
    "Income: 37900\t\tScore: 595\tError: True\n",
    "Income: 78700\t\tScore: 1000\tError: True\n",
    "Income: 41900\t\tScore: 372\tError: True\n",
    "Income: 24600\t\tScore: 385\tError: True\n",
    "Income: 33900\t\tScore: 456\tError: True\n",
    "Income: 23200\t\tScore: 264\tError: True\n",
    "Income: 17700\t\tScore: 289\tError: False\n",
    "Income: 37100\t\tScore: 661\tError: True\n",
    "Income: 16700\t\tScore: 201\tError: False\n",
    "\n",
    "Total Error: 2\n",
    "```"
   ]
  },
  {
   "cell_type": "markdown",
   "metadata": {},
   "source": [
    "### Q. Report an accuracy score\n",
    "\n",
    "Goal: `print()` an accuracy out of $100\\%$\n",
    "\n",
    "Compute the accuracy as $1 - \\frac{error}{N_{loans}}$.\n",
    "* HINT: `n = len(loans)`\n",
    "\n",
    "Compute a score out of $100\\%$. \n",
    "* HINT: multiply by $100$ to report a percentage"
   ]
  },
  {
   "cell_type": "markdown",
   "metadata": {},
   "source": [
    "```\n",
    "SAMPLE OUTPUT:\n",
    "\n",
    "Score: 80 %\n",
    "```"
   ]
  },
  {
   "cell_type": "code",
   "execution_count": null,
   "metadata": {},
   "outputs": [],
   "source": []
  }
 ],
 "metadata": {
  "kernelspec": {
   "display_name": "Python 3",
   "language": "python",
   "name": "python3"
  },
  "language_info": {
   "codemirror_mode": {
    "name": "ipython",
    "version": 3
   },
   "file_extension": ".py",
   "mimetype": "text/x-python",
   "name": "python",
   "nbconvert_exporter": "python",
   "pygments_lexer": "ipython3",
   "version": "3.7.4"
  }
 },
 "nbformat": 4,
 "nbformat_minor": 4
}
