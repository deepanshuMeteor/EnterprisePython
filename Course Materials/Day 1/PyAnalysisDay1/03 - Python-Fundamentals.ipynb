{
 "cells": [
  {
   "cell_type": "markdown",
   "metadata": {
    "graffitiCellId": "id_6h8z85b",
    "slideshow": {
     "slide_type": "slide"
    }
   },
   "source": [
    "# Introducing Python with Jupyter"
   ]
  },
  {
   "cell_type": "markdown",
   "metadata": {
    "graffitiCellId": "id_s8dhglt",
    "slideshow": {
     "slide_type": "slide"
    }
   },
   "source": [
    "## Python Overview\n",
    "* data \n",
    "* variables\n",
    "* operations\n",
    "* simple functions\n",
    "* objects\n",
    "* defining functions\n",
    "* data structure operations\n",
    "* libraries\n",
    "* conditions\n",
    "* loops\n",
    "\n"
   ]
  },
  {
   "cell_type": "markdown",
   "metadata": {
    "graffitiCellId": "id_lwspbj4",
    "slideshow": {
     "slide_type": "slide"
    }
   },
   "source": [
    "# Data"
   ]
  },
  {
   "cell_type": "code",
   "execution_count": 1,
   "metadata": {
    "graffitiCellId": "id_mddkqlw",
    "slideshow": {
     "slide_type": "fragment"
    }
   },
   "outputs": [
    {
     "name": "stdout",
     "output_type": "stream",
     "text": [
      "5\n",
      "5.0\n",
      "5\n",
      "True\n",
      "['Lovers', 'Haters', 'Needers']\n"
     ]
    }
   ],
   "source": [
    "print(5)\n",
    "print(5.0)\n",
    "print(\"5\")\n",
    "print(True)\n",
    "print([\"Lovers\", \"Haters\", \"Needers\"])"
   ]
  },
  {
   "cell_type": "code",
   "execution_count": 2,
   "metadata": {
    "graffitiCellId": "id_eaw0qe7",
    "slideshow": {
     "slide_type": "fragment"
    }
   },
   "outputs": [
    {
     "name": "stdout",
     "output_type": "stream",
     "text": [
      "<class 'int'>\n",
      "<class 'float'>\n",
      "<class 'str'>\n",
      "<class 'bool'>\n",
      "<class 'list'>\n"
     ]
    }
   ],
   "source": [
    "print(type(5))\n",
    "print(type(5.0))\n",
    "print(type(\"5\"))\n",
    "print(type(True))\n",
    "print(type([\"Lovers\", \"Haters\", \"Needers\"]))"
   ]
  },
  {
   "cell_type": "markdown",
   "metadata": {
    "graffitiCellId": "id_35yik7d",
    "slideshow": {
     "slide_type": "slide"
    }
   },
   "source": [
    "# Variables"
   ]
  },
  {
   "cell_type": "code",
   "execution_count": 3,
   "metadata": {
    "graffitiCellId": "id_etx7o4q",
    "slideshow": {
     "slide_type": "subslide"
    }
   },
   "outputs": [
    {
     "name": "stdout",
     "output_type": "stream",
     "text": [
      "Kofi 41 1.82\n",
      "['Artificial Intelligence', 'Gaming', 'Functional Medicine']\n",
      "True\n",
      "Kofi is 41 and 182.0 cm\n"
     ]
    }
   ],
   "source": [
    "name = 'Kofi'\n",
    "age = 41\n",
    "height = 1.82\n",
    "hobbies = [\"Artificial Intelligence\", \"Gaming\", \"Functional Medicine\"]\n",
    "is_alive = True\n",
    "\n",
    "fmesg = f\"{name} is {age} and {height * 100} cm\" # formatted string\n",
    "\n",
    "print(name, age, height)  # print with multiple args = spaced output\n",
    "print(hobbies)\n",
    "print(is_alive)\n",
    "\n",
    "\n",
    "print(fmesg)"
   ]
  },
  {
   "cell_type": "code",
   "execution_count": 4,
   "metadata": {
    "graffitiCellId": "id_hznxpkh",
    "slideshow": {
     "slide_type": "subslide"
    }
   },
   "outputs": [
    {
     "data": {
      "text/plain": [
       "42"
      ]
     },
     "execution_count": 4,
     "metadata": {},
     "output_type": "execute_result"
    }
   ],
   "source": [
    "age += 1\n",
    "\n",
    "age   # the last line of a jupyter cell is always printed"
   ]
  },
  {
   "cell_type": "markdown",
   "metadata": {
    "graffitiCellId": "id_2qqz5cp",
    "slideshow": {
     "slide_type": "slide"
    }
   },
   "source": [
    "# Operations"
   ]
  },
  {
   "cell_type": "code",
   "execution_count": 5,
   "metadata": {
    "graffitiCellId": "id_7qvgwr0",
    "scrolled": true,
    "slideshow": {
     "slide_type": "subslide"
    }
   },
   "outputs": [
    {
     "name": "stdout",
     "output_type": "stream",
     "text": [
      "Kofi Glover\n",
      "8\n",
      "---\n",
      "True\n",
      "False\n",
      "['Cake', 'Cream', 'Flour', 'Sugar']\n",
      "True\n"
     ]
    }
   ],
   "source": [
    "print( \"Kofi \" + \"Glover\")\n",
    "print( 2 ** 3 )    # 2 * 2 * 2 = 2^3\n",
    "print( \"-\" * 3 )\n",
    "print( \"@\" in \"kofi.glover@qa.com\")\n",
    "print( True and False )\n",
    "print( [\"Cake\", \"Cream\"] + [\"Flour\", \"Sugar\"] )\n",
    "print( 1.14 <=  2.13 )\n"
   ]
  },
  {
   "cell_type": "markdown",
   "metadata": {
    "slideshow": {
     "slide_type": "slide"
    }
   },
   "source": [
    "## How do I compare data values?"
   ]
  },
  {
   "cell_type": "code",
   "execution_count": 7,
   "metadata": {
    "slideshow": {
     "slide_type": "subslide"
    }
   },
   "outputs": [],
   "source": [
    "michael_bp = 175\n",
    "alice_bp = 175\n",
    "eve_bp = 140"
   ]
  },
  {
   "cell_type": "markdown",
   "metadata": {
    "slideshow": {
     "slide_type": "fragment"
    }
   },
   "source": [
    "Equality"
   ]
  },
  {
   "cell_type": "code",
   "execution_count": 56,
   "metadata": {
    "slideshow": {
     "slide_type": "fragment"
    }
   },
   "outputs": [
    {
     "data": {
      "text/plain": [
       "True"
      ]
     },
     "execution_count": 56,
     "metadata": {},
     "output_type": "execute_result"
    }
   ],
   "source": [
    "michael_bp == alice_bp"
   ]
  },
  {
   "cell_type": "markdown",
   "metadata": {
    "slideshow": {
     "slide_type": "fragment"
    }
   },
   "source": [
    "Inequality"
   ]
  },
  {
   "cell_type": "code",
   "execution_count": 57,
   "metadata": {
    "slideshow": {
     "slide_type": "fragment"
    }
   },
   "outputs": [
    {
     "data": {
      "text/plain": [
       "False"
      ]
     },
     "execution_count": 57,
     "metadata": {},
     "output_type": "execute_result"
    }
   ],
   "source": [
    "michael_bp != alice_bp"
   ]
  },
  {
   "cell_type": "code",
   "execution_count": 58,
   "metadata": {
    "scrolled": true,
    "slideshow": {
     "slide_type": "fragment"
    }
   },
   "outputs": [
    {
     "data": {
      "text/plain": [
       "True"
      ]
     },
     "execution_count": 58,
     "metadata": {},
     "output_type": "execute_result"
    }
   ],
   "source": [
    "michael_bp != eve_bp"
   ]
  },
  {
   "cell_type": "markdown",
   "metadata": {
    "slideshow": {
     "slide_type": "subslide"
    }
   },
   "source": [
    "Greater than or equal to"
   ]
  },
  {
   "cell_type": "code",
   "execution_count": 59,
   "metadata": {
    "slideshow": {
     "slide_type": "fragment"
    }
   },
   "outputs": [
    {
     "data": {
      "text/plain": [
       "True"
      ]
     },
     "execution_count": 59,
     "metadata": {},
     "output_type": "execute_result"
    }
   ],
   "source": [
    "michael_bp >= eve_bp"
   ]
  },
  {
   "cell_type": "markdown",
   "metadata": {
    "slideshow": {
     "slide_type": "slide"
    }
   },
   "source": [
    "## How do I logically combine comparisons?"
   ]
  },
  {
   "cell_type": "markdown",
   "metadata": {
    "slideshow": {
     "slide_type": "subslide"
    }
   },
   "source": [
    "#### `and`\n",
    "\n",
    "Are *both* conditions true?"
   ]
  },
  {
   "cell_type": "code",
   "execution_count": 2,
   "metadata": {
    "slideshow": {
     "slide_type": "fragment"
    }
   },
   "outputs": [],
   "source": [
    "message = \"WARNING: Too High!\""
   ]
  },
  {
   "cell_type": "code",
   "execution_count": 64,
   "metadata": {
    "scrolled": true,
    "slideshow": {
     "slide_type": "fragment"
    }
   },
   "outputs": [
    {
     "data": {
      "text/plain": [
       "True"
      ]
     },
     "execution_count": 64,
     "metadata": {},
     "output_type": "execute_result"
    }
   ],
   "source": [
    "(\"WARNING\" in message) and (michael_bp >= eve_bp)"
   ]
  },
  {
   "cell_type": "code",
   "execution_count": 9,
   "metadata": {
    "slideshow": {
     "slide_type": "fragment"
    }
   },
   "outputs": [],
   "source": [
    "safe_max = 150\n",
    "safe_min = 80"
   ]
  },
  {
   "cell_type": "markdown",
   "metadata": {
    "slideshow": {
     "slide_type": "subslide"
    }
   },
   "source": [
    "#### `or`\n",
    "\n",
    "Is *either* condition `True` ?"
   ]
  },
  {
   "cell_type": "code",
   "execution_count": 68,
   "metadata": {
    "slideshow": {
     "slide_type": "fragment"
    }
   },
   "outputs": [
    {
     "data": {
      "text/plain": [
       "False"
      ]
     },
     "execution_count": 68,
     "metadata": {},
     "output_type": "execute_result"
    }
   ],
   "source": [
    "michael_bp < safe_max"
   ]
  },
  {
   "cell_type": "code",
   "execution_count": 67,
   "metadata": {
    "scrolled": true,
    "slideshow": {
     "slide_type": "fragment"
    }
   },
   "outputs": [
    {
     "data": {
      "text/plain": [
       "True"
      ]
     },
     "execution_count": 67,
     "metadata": {},
     "output_type": "execute_result"
    }
   ],
   "source": [
    "eve_bp < safe_max"
   ]
  },
  {
   "cell_type": "code",
   "execution_count": 69,
   "metadata": {
    "slideshow": {
     "slide_type": "fragment"
    }
   },
   "outputs": [
    {
     "data": {
      "text/plain": [
       "True"
      ]
     },
     "execution_count": 69,
     "metadata": {},
     "output_type": "execute_result"
    }
   ],
   "source": [
    "(eve_bp < safe_max) or (michael_bp < safe_max)"
   ]
  },
  {
   "cell_type": "markdown",
   "metadata": {
    "slideshow": {
     "slide_type": "subslide"
    }
   },
   "source": [
    "#### `not`\n",
    "\n",
    "Isn't the condition `True`?"
   ]
  },
  {
   "cell_type": "code",
   "execution_count": 3,
   "metadata": {
    "slideshow": {
     "slide_type": "fragment"
    }
   },
   "outputs": [
    {
     "data": {
      "text/plain": [
       "False"
      ]
     },
     "execution_count": 3,
     "metadata": {},
     "output_type": "execute_result"
    }
   ],
   "source": [
    "not (\"WARNING\" in message)"
   ]
  },
  {
   "cell_type": "markdown",
   "metadata": {
    "slideshow": {
     "slide_type": "fragment"
    }
   },
   "source": [
    "... sometimes python let's you place `not` in the middle of a condition because it reads better.."
   ]
  },
  {
   "cell_type": "code",
   "execution_count": 4,
   "metadata": {
    "slideshow": {
     "slide_type": "fragment"
    }
   },
   "outputs": [
    {
     "data": {
      "text/plain": [
       "False"
      ]
     },
     "execution_count": 4,
     "metadata": {},
     "output_type": "execute_result"
    }
   ],
   "source": [
    "\"WARNING\" not in message"
   ]
  },
  {
   "cell_type": "markdown",
   "metadata": {
    "slideshow": {
     "slide_type": "subslide"
    }
   },
   "source": [
    "## How do I use complex conditions to make decisions?"
   ]
  },
  {
   "cell_type": "code",
   "execution_count": 11,
   "metadata": {
    "slideshow": {
     "slide_type": "fragment"
    }
   },
   "outputs": [
    {
     "name": "stdout",
     "output_type": "stream",
     "text": [
      "GO TO HOSPITAL\n"
     ]
    }
   ],
   "source": [
    "if (\"WARNING\" in message) and (michael_bp > safe_max):\n",
    "    print(\"GO TO HOSPITAL\")\n",
    "else:\n",
    "    print(\"STAY AT HOME\")"
   ]
  },
  {
   "cell_type": "markdown",
   "metadata": {
    "graffitiCellId": "id_qew89wg",
    "slideshow": {
     "slide_type": "subslide"
    }
   },
   "source": [
    "### Simple Functions\n",
    "\n",
    "\n",
    "output = fn(input)\n",
    "\n",
    "returnValue = procedure(requirements)\n",
    "\n",
    "makes a new value\n",
    "\n",
    "these are algorithms, not \"relationships between mathematical variables\""
   ]
  },
  {
   "cell_type": "code",
   "execution_count": 6,
   "metadata": {
    "graffitiCellId": "id_91hfxgy",
    "slideshow": {
     "slide_type": "subslide"
    }
   },
   "outputs": [
    {
     "name": "stdout",
     "output_type": "stream",
     "text": [
      "Kofi\n",
      "140509698735152\n",
      "<class 'str'>\n",
      "4\n"
     ]
    }
   ],
   "source": [
    "name = \"Kofi\"\n",
    "\n",
    "print(name)          # output the value of name\n",
    "print( id(name) )    # output the memory location of the value of name\n",
    "print( type(name) )  # output the type of the value of name\n",
    "print( len(name) )   # output the length of (the value of) name \n"
   ]
  },
  {
   "cell_type": "markdown",
   "metadata": {
    "graffitiCellId": "id_ljm8tih",
    "slideshow": {
     "slide_type": "slide"
    }
   },
   "source": [
    "# Objects"
   ]
  },
  {
   "cell_type": "code",
   "execution_count": 7,
   "metadata": {
    "graffitiCellId": "id_ipd1y1d",
    "slideshow": {
     "slide_type": "fragment"
    }
   },
   "outputs": [
    {
     "name": "stdout",
     "output_type": "stream",
     "text": [
      "KOFI\n",
      "kofi\n",
      "True\n",
      "False\n"
     ]
    }
   ],
   "source": [
    "# data.operation(requirements)\n",
    "# obj.method(parameters)\n",
    "# ask name to upper() itself \n",
    "# ask name if it startswith(M)\n",
    "\n",
    "print( name.upper()  )\n",
    "print( name.lower()   )\n",
    "print( name.startswith(\"K\") )\n",
    "print( name.endswith(\"K\") )\n",
    "\n",
    "# all data in python is an object\n",
    "# objects are data structures:  values (properties), types (class), id, methods"
   ]
  },
  {
   "cell_type": "code",
   "execution_count": 8,
   "metadata": {
    "graffitiCellId": "id_bsadkld",
    "slideshow": {
     "slide_type": "fragment"
    }
   },
   "outputs": [
    {
     "data": {
      "text/plain": [
       "['swapcase', 'title', 'translate', 'upper', 'zfill']"
      ]
     },
     "execution_count": 8,
     "metadata": {},
     "output_type": "execute_result"
    }
   ],
   "source": [
    "dir(name)[-5:] # lists the last 5 attributes & methods of the object "
   ]
  },
  {
   "cell_type": "markdown",
   "metadata": {
    "graffitiCellId": "id_ix5t7mi",
    "slideshow": {
     "slide_type": "slide"
    }
   },
   "source": [
    "## Exercise 1:\n",
    "* define variables of each type mentioned\n",
    "* they should describe you (name, age, location, etc.)\n",
    "\n",
    "* print these out\n",
    "* print all strings in upper case\n",
    "* print whether your age is over 18\n",
    "* print 10 dashes"
   ]
  },
  {
   "cell_type": "markdown",
   "metadata": {
    "graffitiCellId": "id_dpwwm1o",
    "slideshow": {
     "slide_type": "slide"
    }
   },
   "source": [
    "# Functions"
   ]
  },
  {
   "cell_type": "markdown",
   "metadata": {
    "slideshow": {
     "slide_type": "fragment"
    }
   },
   "source": [
    "Functions are, in part, a mechaism by which you can repeat and reuse blocks of code.\n",
    "\n",
    "However, importantly, they are a key mechanism for structring your program!\n",
    "\n",
    "Even when your function will only be called once, it is often still helpful to define it, so you can enclose some logic under a heading, and use that heading to clarify the structure & intention of your code."
   ]
  },
  {
   "cell_type": "markdown",
   "metadata": {
    "graffitiCellId": "id_jvhiwzf",
    "slideshow": {
     "slide_type": "subslide"
    }
   },
   "source": [
    "### Defining Functions\n",
    "* algorithm can be used to calculate the value of a mathematical function...\n",
    "\n",
    "* error(pred, obv) = (pred - obv)^2  (known as the MSE, or, Mean Square Error)\n",
    "\n",
    "* def error(pred, obv)                <- LHS of math\n",
    "* return (pred - obv)^2               <- RHS of math  (return aprox., = )\n",
    "\n",
    "* return actually means store calcuated value in memory "
   ]
  },
  {
   "cell_type": "code",
   "execution_count": 9,
   "metadata": {
    "graffitiCellId": "id_zv74rst",
    "slideshow": {
     "slide_type": "subslide"
    }
   },
   "outputs": [
    {
     "data": {
      "text/plain": [
       "0.0899999999999999"
      ]
     },
     "execution_count": 9,
     "metadata": {},
     "output_type": "execute_result"
    }
   ],
   "source": [
    "def error(pred, obv):\n",
    "    return (pred - obv) ** 2\n",
    "\n",
    "error(3, 3.3)"
   ]
  },
  {
   "cell_type": "markdown",
   "metadata": {
    "graffitiCellId": "id_eyn6dbd",
    "slideshow": {
     "slide_type": "fragment"
    }
   },
   "source": [
    "* indendation groups operations together\n",
    "* def defines a function\n",
    "* parameters are listed after the function name\n",
    "* one new line after the definintion ends the def. \n",
    "* notice colon before indentation"
   ]
  },
  {
   "cell_type": "markdown",
   "metadata": {
    "slideshow": {
     "slide_type": "subslide"
    }
   },
   "source": [
    "Consider the following function which could be used to predict a person's weight in `kg`:"
   ]
  },
  {
   "cell_type": "code",
   "execution_count": 10,
   "metadata": {
    "slideshow": {
     "slide_type": "fragment"
    }
   },
   "outputs": [],
   "source": [
    "def predict(age, height, parameters=(0.5, 0.5, 0)):\n",
    "    \"\"\"\n",
    "    Predict a weight (kg) from an age (yr), height (cm) and\n",
    "        parameters :\n",
    "            (age importance, height importance, base weight)\n",
    "    \"\"\"\n",
    "    # reset the scales so each goes from 0 to 1\n",
    "    age, height = age/100, height/200\n",
    "    \n",
    "    # extract the parameters for each variable\n",
    "    a, h, w = parameters\n",
    "    \n",
    "    # predict a weight\n",
    "    weight = 100 * (a * age + h * height + w)\n",
    "    \n",
    "    return round(weight, 2)"
   ]
  },
  {
   "cell_type": "code",
   "execution_count": 11,
   "metadata": {
    "slideshow": {
     "slide_type": "subslide"
    }
   },
   "outputs": [
    {
     "name": "stdout",
     "output_type": "stream",
     "text": [
      "Help on function predict in module __main__:\n",
      "\n",
      "predict(age, height, parameters=(0.5, 0.5, 0))\n",
      "    Predict a weight (kg) from an age (yr), height (cm) and\n",
      "        parameters :\n",
      "            (age importance, height importance, base weight)\n",
      "\n"
     ]
    }
   ],
   "source": [
    "help(predict)"
   ]
  },
  {
   "cell_type": "code",
   "execution_count": 12,
   "metadata": {
    "slideshow": {
     "slide_type": "fragment"
    }
   },
   "outputs": [
    {
     "data": {
      "text/plain": [
       "56.0"
      ]
     },
     "execution_count": 12,
     "metadata": {},
     "output_type": "execute_result"
    }
   ],
   "source": [
    "predict(10, 150, (0.6, 0.4, 0.2)) # pass arguments by position"
   ]
  },
  {
   "cell_type": "code",
   "execution_count": 13,
   "metadata": {
    "slideshow": {
     "slide_type": "fragment"
    }
   },
   "outputs": [
    {
     "data": {
      "text/plain": [
       "42.5"
      ]
     },
     "execution_count": 13,
     "metadata": {},
     "output_type": "execute_result"
    }
   ],
   "source": [
    "predict(10, 150) # pass arguments by position, one by default"
   ]
  },
  {
   "cell_type": "code",
   "execution_count": 14,
   "metadata": {
    "slideshow": {
     "slide_type": "fragment"
    }
   },
   "outputs": [
    {
     "data": {
      "text/plain": [
       "42.5"
      ]
     },
     "execution_count": 14,
     "metadata": {},
     "output_type": "execute_result"
    }
   ],
   "source": [
    "predict(age=10, height=150) # pass by name"
   ]
  },
  {
   "cell_type": "code",
   "execution_count": 15,
   "metadata": {
    "graffitiCellId": "id_btwewgl",
    "slideshow": {
     "slide_type": "subslide"
    }
   },
   "outputs": [
    {
     "name": "stdout",
     "output_type": "stream",
     "text": [
      "----------\n",
      "[12, 12, 15]\n",
      "----------\n",
      "4.4\n",
      "----------\n",
      "[10, 12]\n",
      "----------\n",
      "<class 'NoneType'>\n",
      "None\n"
     ]
    }
   ],
   "source": [
    "# functions = procedures\n",
    "# can also not return anything\n",
    "\n",
    "def show_results(results):\n",
    "    print(\"-\" * 10)\n",
    "    print(results)\n",
    "    print(\"-\" * 10)\n",
    "    \n",
    "show_results([12, 12, 15])   # writes to screen, but has no return value\n",
    "\n",
    "def distance(x1, x2):\n",
    "    return (x2 - x1) ** 2   # euclidean distance, aka. L2 norm\n",
    "    \n",
    "\n",
    "dist = distance(10, 12)\n",
    "print(dist * 1.1)  # calculated value can be stored in variable\n",
    "\n",
    "\n",
    "rtn = show_results([10, 12])\n",
    "\n",
    "print(type(rtn))\n",
    "print(rtn) # nothing is stored here, no return value"
   ]
  },
  {
   "cell_type": "markdown",
   "metadata": {
    "graffitiCellId": "id_khzovon",
    "slideshow": {
     "slide_type": "slide"
    }
   },
   "source": [
    "### Exercise 2:\n",
    "define a function called :\n",
    "\n",
    "* mean: which takes three parameters and returns their mean\n",
    "* cube: which cubes its first argument\n",
    "* is_adult: which says whetehr its first argument is more than 18 \n",
    "\n",
    "\n",
    "\n",
    "* define three variables:   \n",
    "* mean_ages: which is mean of 18,18,20 \n",
    "* two_later: which is 2 cubed\n",
    "* teen_is_adult: which is whether an age of 15 is adult\n",
    "\n",
    "\n",
    "* define function show() \n",
    "* which prints the three variables above "
   ]
  },
  {
   "cell_type": "code",
   "execution_count": 16,
   "metadata": {
    "graffitiCellId": "id_v0pk59z",
    "slideshow": {
     "slide_type": "subslide"
    }
   },
   "outputs": [
    {
     "name": "stdout",
     "output_type": "stream",
     "text": [
      "mean: 18.666666666666668\n",
      "cube: 8\n",
      "age: False\n"
     ]
    }
   ],
   "source": [
    "def mean(x, y, z):\n",
    "    return (x + y + z)/3\n",
    "\n",
    "def cube(x):\n",
    "    return x ** 3\n",
    "\n",
    "def is_adult(age):\n",
    "    return age >= 18\n",
    "\n",
    "\n",
    "def show(m, c, a):\n",
    "    print(\"mean:\", m)\n",
    "    print(\"cube:\", c)\n",
    "    print(\"age:\", a)\n",
    "    \n",
    "mean_ages = mean(18,18,20)\n",
    "two_late = cube(2)\n",
    "teen = is_adult(15)\n",
    "\n",
    "show(mean_ages, two_late, teen)"
   ]
  },
  {
   "cell_type": "markdown",
   "metadata": {
    "graffitiCellId": "id_sp7hkjb",
    "slideshow": {
     "slide_type": "slide"
    }
   },
   "source": [
    "### Data Structures\n",
    "* strings - groups of characters\n",
    "* lists - ordered groups of data where each element is indexed by an int\n",
    "* sets - unordered groups of data where there is no indexing\n",
    "* tuples - uneditable (immutable) groups of data where elements are int-indexed\n",
    "* dictionaries - groups of data where indexes are chosen by you"
   ]
  },
  {
   "cell_type": "code",
   "execution_count": 17,
   "metadata": {
    "graffitiCellId": "id_04v3it3",
    "slideshow": {
     "slide_type": "subslide"
    }
   },
   "outputs": [
    {
     "name": "stdout",
     "output_type": "stream",
     "text": [
      "B\n",
      "e\n",
      "d\n",
      "!\n"
     ]
    }
   ],
   "source": [
    "# strings\n",
    "\n",
    "quote = \"Be the change you wish to see in the world!\"\n",
    "\n",
    "print( quote[0] )   # first\n",
    "print( quote[1] )   # second\n",
    "print( quote[-2] )  # second from last\n",
    "print( quote[-1] )  # last"
   ]
  },
  {
   "cell_type": "code",
   "execution_count": 18,
   "metadata": {
    "graffitiCellId": "id_jzmhcin",
    "slideshow": {
     "slide_type": "subslide"
    }
   },
   "outputs": [
    {
     "name": "stdout",
     "output_type": "stream",
     "text": [
      "Be\n"
     ]
    }
   ],
   "source": [
    "print( quote[0:2] )  # zero until postn-2"
   ]
  },
  {
   "cell_type": "code",
   "execution_count": 19,
   "metadata": {
    "graffitiCellId": "id_krre8vd",
    "slideshow": {
     "slide_type": "fragment"
    }
   },
   "outputs": [
    {
     "name": "stdout",
     "output_type": "stream",
     "text": [
      "Be the change you wish to see in the \n"
     ]
    }
   ],
   "source": [
    "print( quote[0:-6] ) # beginning until -6th postn"
   ]
  },
  {
   "cell_type": "code",
   "execution_count": 20,
   "metadata": {
    "graffitiCellId": "id_35m1h9h",
    "slideshow": {
     "slide_type": "fragment"
    }
   },
   "outputs": [
    {
     "name": "stdout",
     "output_type": "stream",
     "text": [
      "Be the change you wish to see in the  bed\n"
     ]
    }
   ],
   "source": [
    "print( quote[0:-6]  + \" bed\" )"
   ]
  },
  {
   "cell_type": "code",
   "execution_count": 21,
   "metadata": {
    "graffitiCellId": "id_9ufw90a",
    "slideshow": {
     "slide_type": "fragment"
    }
   },
   "outputs": [
    {
     "name": "stdout",
     "output_type": "stream",
     "text": [
      "Be\n",
      "world!\n"
     ]
    }
   ],
   "source": [
    "print(quote[:2])    # leave off start postn = zero\n",
    "print(quote[-6:] )  # leave off end postn = end of string"
   ]
  },
  {
   "cell_type": "code",
   "execution_count": 22,
   "metadata": {
    "graffitiCellId": "id_spz8pv6",
    "slideshow": {
     "slide_type": "subslide"
    }
   },
   "outputs": [
    {
     "name": "stdout",
     "output_type": "stream",
     "text": [
      "10\n",
      "20\n",
      "30\n",
      "(10, 20)\n",
      "('OldSt', 'London')\n"
     ]
    }
   ],
   "source": [
    "# tuple\n",
    "\n",
    "point = (10, 20, 30)\n",
    "\n",
    "print( point[0] )\n",
    "print( point[1] )\n",
    "print( point[-1] )\n",
    "\n",
    "print( point[0:2] ) #slice, as with strings\n",
    "\n",
    "# point[0] = 15 # error: not allowed to overwrite\n",
    "\n",
    "# technically, () not required...\n",
    "\n",
    "address = \"OldSt\", \"London\"\n",
    "\n",
    "print(address)"
   ]
  },
  {
   "cell_type": "code",
   "execution_count": 23,
   "metadata": {
    "graffitiCellId": "id_nfns8jy",
    "slideshow": {
     "slide_type": "subslide"
    }
   },
   "outputs": [
    {
     "name": "stdout",
     "output_type": "stream",
     "text": [
      "[300, 1000, 'London', ('Old Street', 'London')]\n",
      "4\n",
      "('Old Street', 'London')\n",
      "2\n"
     ]
    }
   ],
   "source": [
    "# lists\n",
    "# y target customer satisfaction\n",
    "# x customer features \n",
    "# (days-since-first-purchase, total-spent, nearest-store, addresss)\n",
    "#  \n",
    "\n",
    "x = [300, 1000, \"London\", (\"Old Street\", \"London\")]\n",
    "\n",
    "print(x)\n",
    "print(len(x))\n",
    "\n",
    "print(x[-1])\n",
    "print(len(x[-1]))\n",
    "\n"
   ]
  },
  {
   "cell_type": "code",
   "execution_count": 24,
   "metadata": {
    "graffitiCellId": "id_63qv26q",
    "slideshow": {
     "slide_type": "fragment"
    }
   },
   "outputs": [
    {
     "data": {
      "text/plain": [
       "[300, 1000, 'London', ('Old Street', 'London'), 1]"
      ]
     },
     "execution_count": 24,
     "metadata": {},
     "output_type": "execute_result"
    }
   ],
   "source": [
    "x.append(1)\n",
    "x"
   ]
  },
  {
   "cell_type": "code",
   "execution_count": 25,
   "metadata": {
    "graffitiCellId": "id_hrt3m6v",
    "slideshow": {
     "slide_type": "fragment"
    }
   },
   "outputs": [
    {
     "data": {
      "text/plain": [
       "1"
      ]
     },
     "execution_count": 25,
     "metadata": {},
     "output_type": "execute_result"
    }
   ],
   "source": [
    "x.pop()"
   ]
  },
  {
   "cell_type": "code",
   "execution_count": 26,
   "metadata": {
    "graffitiCellId": "id_rn2pudk",
    "slideshow": {
     "slide_type": "fragment"
    }
   },
   "outputs": [
    {
     "name": "stdout",
     "output_type": "stream",
     "text": [
      "[300, 1000, 'London', ('Old Street', 'London')]\n",
      "[1, 300, 1000, 'London', ('Old Street', 'London')]\n"
     ]
    }
   ],
   "source": [
    "print(x)\n",
    "x.insert(0, 1) # insert at postn 0, the element 1\n",
    "\n",
    "print(x)"
   ]
  },
  {
   "cell_type": "markdown",
   "metadata": {
    "graffitiCellId": "id_pmpnyrf",
    "slideshow": {
     "slide_type": "slide"
    }
   },
   "source": [
    "### Using Lists in Functions"
   ]
  },
  {
   "cell_type": "code",
   "execution_count": 27,
   "metadata": {
    "graffitiCellId": "id_a2vvojn",
    "slideshow": {
     "slide_type": "fragment"
    }
   },
   "outputs": [],
   "source": [
    "def error(y_pred, y, i):\n",
    "    return (y_pred - y[i]) ** 2"
   ]
  },
  {
   "cell_type": "code",
   "execution_count": 28,
   "metadata": {
    "graffitiCellId": "id_636e5d0",
    "slideshow": {
     "slide_type": "fragment"
    }
   },
   "outputs": [
    {
     "data": {
      "text/plain": [
       "0.6399999999999997"
      ]
     },
     "execution_count": 28,
     "metadata": {},
     "output_type": "execute_result"
    }
   ],
   "source": [
    "y = [2, 3, 5, 8]\n",
    "guess = 2.2\n",
    "\n",
    "error(guess, y, 1)   #   (2.2 - 3) ** 2"
   ]
  },
  {
   "cell_type": "markdown",
   "metadata": {
    "graffitiCellId": "id_9775rav",
    "slideshow": {
     "slide_type": "subslide"
    }
   },
   "source": [
    "## Exericse 3:  Lists\n",
    "* define a list \"cart\" which is a shopping cart\n",
    "* add several items to it\n",
    "* print out the first, last and middle two items\n",
    "\n",
    "* insert a new item at the start\n",
    "* print the whole list"
   ]
  },
  {
   "cell_type": "markdown",
   "metadata": {
    "graffitiCellId": "id_95cpghz",
    "slideshow": {
     "slide_type": "subslide"
    }
   },
   "source": [
    "### Dictionaries\n",
    "* key-value data structures\n",
    "* where the keys are defined by you (generally strings)"
   ]
  },
  {
   "cell_type": "code",
   "execution_count": 29,
   "metadata": {
    "graffitiCellId": "id_8d7q51m",
    "slideshow": {
     "slide_type": "fragment"
    }
   },
   "outputs": [
    {
     "name": "stdout",
     "output_type": "stream",
     "text": [
      "kofi\n",
      "41\n",
      "uk\n"
     ]
    }
   ],
   "source": [
    "user = {\n",
    "    \"name\": \"kofi\",\n",
    "    \"age\": 41,\n",
    "    \"location\": \"uk\"\n",
    "}\n",
    "\n",
    "print(user[\"name\"])     # use string keys to look up value rather than int index\n",
    "print(user[\"age\"])\n",
    "print(user[\"location\"])"
   ]
  },
  {
   "cell_type": "code",
   "execution_count": 30,
   "metadata": {
    "graffitiCellId": "id_w4qs62z",
    "slideshow": {
     "slide_type": "subslide"
    }
   },
   "outputs": [
    {
     "data": {
      "text/plain": [
       "'Fraud'"
      ]
     },
     "execution_count": 30,
     "metadata": {},
     "output_type": "execute_result"
    }
   ],
   "source": [
    "# data science example: labelling for Fraud|NotFraud\n",
    "# dict keys can be lots of diff. thigns, not just strings...\n",
    "# but must be unique!\n",
    "# key = (age, days-since-purchase-of-insurance)  \n",
    "user = {\n",
    "    (18, 13) : \"Fraud\",\n",
    "    (60, 300) : \"NotFraud\"\n",
    "}\n",
    "\n",
    "user[(18, 13)]"
   ]
  },
  {
   "cell_type": "code",
   "execution_count": 31,
   "metadata": {
    "graffitiCellId": "id_70uhkvw",
    "slideshow": {
     "slide_type": "fragment"
    }
   },
   "outputs": [
    {
     "data": {
      "text/plain": [
       "39.0"
      ]
     },
     "execution_count": 31,
     "metadata": {},
     "output_type": "execute_result"
    }
   ],
   "source": [
    "# dictionaries more commonly are more like matrices...\n",
    "users = {\n",
    "    \"age-at-purchase\": [18, 60],\n",
    "    \"days-from-purcahse\": [13, 300]\n",
    "}\n",
    "\n",
    "ages = users['age-at-purchase']\n",
    "\n",
    "sum(ages)/len(ages)"
   ]
  },
  {
   "cell_type": "markdown",
   "metadata": {
    "graffitiCellId": "id_c45pu5d",
    "slideshow": {
     "slide_type": "slide"
    }
   },
   "source": [
    "### Control Flow"
   ]
  },
  {
   "cell_type": "code",
   "execution_count": 32,
   "metadata": {
    "graffitiCellId": "id_vtsvpi9",
    "slideshow": {
     "slide_type": "subslide"
    }
   },
   "outputs": [
    {
     "name": "stdout",
     "output_type": "stream",
     "text": [
      "See Education Plans\n"
     ]
    }
   ],
   "source": [
    "user_age = 18\n",
    "\n",
    "if user_age > 65:                      # colons\n",
    "    print(\"See Retirement Plans\")      # indentation\n",
    "elif user_age > 21:                    # keyword, elif\n",
    "    print(\"See Vocation Plans\")\n",
    "elif user_age > 13:\n",
    "    print(\"See Education Plans\")\n",
    "else:\n",
    "    print(\"See your mother!\")\n",
    "    "
   ]
  },
  {
   "cell_type": "code",
   "execution_count": 33,
   "metadata": {
    "graffitiCellId": "id_arffb5d",
    "slideshow": {
     "slide_type": "subslide"
    }
   },
   "outputs": [
    {
     "name": "stdout",
     "output_type": "stream",
     "text": [
      "1\n",
      "8\n",
      "7\n",
      "6\n",
      "5\n",
      "5\n"
     ]
    }
   ],
   "source": [
    "# while loops are rare, usually bad -- repeating\n",
    "\n",
    "ratings = [5,5,6,7,8,1]\n",
    "\n",
    "while len(ratings) > 0:\n",
    "    print(ratings.pop())    # remove last one\n",
    "    \n",
    "    "
   ]
  },
  {
   "cell_type": "code",
   "execution_count": 34,
   "metadata": {
    "graffitiCellId": "id_pm4zqhl",
    "slideshow": {
     "slide_type": "fragment"
    }
   },
   "outputs": [
    {
     "data": {
      "text/plain": [
       "[]"
      ]
     },
     "execution_count": 34,
     "metadata": {},
     "output_type": "execute_result"
    }
   ],
   "source": [
    "ratings"
   ]
  },
  {
   "cell_type": "code",
   "execution_count": 35,
   "metadata": {
    "graffitiCellId": "id_8w2rtir",
    "scrolled": false,
    "slideshow": {
     "slide_type": "subslide"
    }
   },
   "outputs": [
    {
     "name": "stdout",
     "output_type": "stream",
     "text": [
      "5\n",
      "5\n",
      "6\n",
      "7\n",
      "8\n",
      "1\n"
     ]
    },
    {
     "data": {
      "text/plain": [
       "[5, 5, 6, 7, 8, 1]"
      ]
     },
     "execution_count": 35,
     "metadata": {},
     "output_type": "execute_result"
    }
   ],
   "source": [
    "# for loop -- data processing loop\n",
    "\n",
    "ratings = [5,5,6,7,8,1]\n",
    "\n",
    "for element in ratings:      # for name-of-each-element  in source-data-input\n",
    "    print(element)           # algorithm for processing each-element\n",
    "    \n",
    "ratings"
   ]
  },
  {
   "cell_type": "markdown",
   "metadata": {
    "slideshow": {
     "slide_type": "slide"
    }
   },
   "source": [
    "## Exercise (20min)"
   ]
  },
  {
   "cell_type": "markdown",
   "metadata": {
    "slideshow": {
     "slide_type": "subslide"
    }
   },
   "source": [
    "(review notes)\n",
    "\n",
    "\n",
    "Your goal in this exercise is to simualte tracking health data for a user, and provide them with a custom health warning message if there are any issues with their health data. \n",
    "\n",
    "#### Part 1\n",
    "Ask the user for a single HR and BP reading. \n",
    "\n",
    "Report a warning based on where *both* of these values fall. \n",
    "\n",
    "* bad signs\n",
    "    * HR > 200 \n",
    "    * BP > 200 \n",
    "    * HR > 150, BP > 170 \n",
    "    * come up with your own conditions for the low warnings range\n",
    "\n",
    "\n",
    "#### Part 2\n",
    "Ask the user how they are feeling. Offer the user some advice on their mental health. \n",
    "\n",
    "* bad signs\n",
    "    * does the response contain \"sad\"\n",
    "    * does it end with \"!?\"\n",
    "* good signs\n",
    "    * does it contain \"happy\"\n",
    "    * does it end with \"!\""
   ]
  },
  {
   "cell_type": "markdown",
   "metadata": {
    "slideshow": {
     "slide_type": "slide"
    }
   },
   "source": [
    "## Solution"
   ]
  },
  {
   "cell_type": "code",
   "execution_count": 74,
   "metadata": {
    "slideshow": {
     "slide_type": "subslide"
    }
   },
   "outputs": [
    {
     "name": "stdout",
     "output_type": "stream",
     "text": [
      "BP?0459\n",
      "HR?4059\n",
      "WARNING\n"
     ]
    }
   ],
   "source": [
    "bp = float(input(\"BP?\"))\n",
    "hr = float(input(\"HR?\"))\n",
    "\n",
    "if (bp > 200) or (hr > 200):\n",
    "    print(\"WARNING\")\n",
    "elif (bp > 150) and (hr > 170):\n",
    "    print(\"WARNING\")\n",
    "elif (bp < 100) and (hr < 40):\n",
    "    print(\"WARNING\")\n",
    "else:\n",
    "    print(\"OK!\")"
   ]
  },
  {
   "cell_type": "code",
   "execution_count": 77,
   "metadata": {
    "slideshow": {
     "slide_type": "subslide"
    }
   },
   "outputs": [
    {
     "name": "stdout",
     "output_type": "stream",
     "text": [
      "How do you feel? i'm sad\n"
     ]
    }
   ],
   "source": [
    "feeling = input(\"How do you feel? \")"
   ]
  },
  {
   "cell_type": "code",
   "execution_count": 78,
   "metadata": {
    "slideshow": {
     "slide_type": "subslide"
    }
   },
   "outputs": [
    {
     "name": "stdout",
     "output_type": "stream",
     "text": [
      "try some exercise!\n"
     ]
    }
   ],
   "source": [
    "if (\"sad\" in feeling) or (feeling.endswith(\"!?\")):\n",
    "    print(\"try some exercise!\")\n",
    "elif (\"happy\" in feeling) or (feeling.endswith(\"!\")):\n",
    "    print(\"try relaxing\")\n",
    "else:\n",
    "    print(\"not possible to offer advice\")"
   ]
  },
  {
   "cell_type": "markdown",
   "metadata": {
    "slideshow": {
     "slide_type": "slide"
    }
   },
   "source": [
    "# Analysing Datasets with `for`\n"
   ]
  },
  {
   "cell_type": "markdown",
   "metadata": {
    "slideshow": {
     "slide_type": "subslide"
    }
   },
   "source": [
    "When using the `for` loop we encouter the same kind of problems over and over again:\n",
    "\n",
    "* looping over multiple collections\n",
    "    * `zip()`\n",
    "* looping over a range of numbers\n",
    "    * `range()`\n",
    "* looping over a collection *and requring* the index of each element\n",
    "    * `enumerate()`\n"
   ]
  },
  {
   "cell_type": "markdown",
   "metadata": {
    "slideshow": {
     "slide_type": "subslide"
    }
   },
   "source": [
    "## How do I loop over multiple collections?"
   ]
  },
  {
   "cell_type": "markdown",
   "metadata": {
    "slideshow": {
     "slide_type": "fragment"
    }
   },
   "source": [
    "When using a `for` loop you can only loop over *one* dataset. \n",
    "\n",
    "However, you can combine multiple datasets into one, using `zip()`.\n",
    "\n",
    "The zip() function returns a zip object, which is an iterator of tuples where the first item in each passed iterator is paired together, and then the second item in each passed iterator are paired together etc."
   ]
  },
  {
   "cell_type": "code",
   "execution_count": 36,
   "metadata": {
    "slideshow": {
     "slide_type": "fragment"
    }
   },
   "outputs": [],
   "source": [
    "hrs = [60, 70, 80]\n",
    "bps = [100, 200, 250]"
   ]
  },
  {
   "cell_type": "code",
   "execution_count": 37,
   "metadata": {
    "slideshow": {
     "slide_type": "fragment"
    }
   },
   "outputs": [
    {
     "data": {
      "text/plain": [
       "[(60, 100), (70, 200), (80, 250)]"
      ]
     },
     "execution_count": 37,
     "metadata": {},
     "output_type": "execute_result"
    }
   ],
   "source": [
    "bundled = list(zip(hrs, bps))\n",
    "bundled"
   ]
  },
  {
   "cell_type": "markdown",
   "metadata": {
    "slideshow": {
     "slide_type": "fragment"
    }
   },
   "source": [
    "Note here that each element of `bundled` has two entires... ( `bundled` is one list )."
   ]
  },
  {
   "cell_type": "code",
   "execution_count": 38,
   "metadata": {
    "slideshow": {
     "slide_type": "subslide"
    }
   },
   "outputs": [
    {
     "name": "stdout",
     "output_type": "stream",
     "text": [
      "60 100\n",
      "70 200\n",
      "80 250\n"
     ]
    }
   ],
   "source": [
    "for hr, bp in zip(hrs, bps):\n",
    "    print(hr, bp)"
   ]
  },
  {
   "cell_type": "markdown",
   "metadata": {
    "slideshow": {
     "slide_type": "fragment"
    }
   },
   "source": [
    "...in sum, you can use `zip()` to loop over multiple lists at once. "
   ]
  },
  {
   "cell_type": "code",
   "execution_count": 39,
   "metadata": {
    "slideshow": {
     "slide_type": "fragment"
    }
   },
   "outputs": [
    {
     "name": "stdout",
     "output_type": "stream",
     "text": [
      "We measured:  60 bpm\n",
      "We measured:  100 mmHg\n",
      "OK\n",
      "\n",
      "We measured:  70 bpm\n",
      "We measured:  200 mmHg\n",
      "OK\n",
      "\n",
      "We measured:  80 bpm\n",
      "We measured:  250 mmHg\n",
      "WARNING\n",
      "\n"
     ]
    }
   ],
   "source": [
    "for hr, bp in zip(hrs, bps):\n",
    "    print(\"We measured: \", hr, \"bpm\")\n",
    "    print(\"We measured: \", bp, \"mmHg\")\n",
    "    \n",
    "    if (hr > 200) or (bp > 200):\n",
    "        print(\"WARNING\")\n",
    "    else:\n",
    "        print(\"OK\")\n",
    "        \n",
    "    print() # prints an empty line"
   ]
  },
  {
   "cell_type": "markdown",
   "metadata": {
    "slideshow": {
     "slide_type": "subslide"
    }
   },
   "source": [
    "## How do I loop over a range of numbers?\n"
   ]
  },
  {
   "cell_type": "markdown",
   "metadata": {
    "slideshow": {
     "slide_type": "fragment"
    }
   },
   "source": [
    "`range` will produce numbers in the range `START` to `END` seperated by `STEP`:\n",
    "\n",
    "`range( START, END, STEP) `\n",
    "\n",
    "- start\tOptional. An integer number specifying at which position to start. Default is 0\n",
    "- stop\tRequired. An integer number specifying at which position to stop (not included).\n",
    "- step\tOptional. An integer number specifying the incrementation. Default is 1\n",
    "\n",
    "You can loop over these numbers. "
   ]
  },
  {
   "cell_type": "code",
   "execution_count": 40,
   "metadata": {
    "slideshow": {
     "slide_type": "fragment"
    }
   },
   "outputs": [
    {
     "data": {
      "text/plain": [
       "[0, 20, 40, 60, 80]"
      ]
     },
     "execution_count": 40,
     "metadata": {},
     "output_type": "execute_result"
    }
   ],
   "source": [
    "list(range(0, 100, 20))"
   ]
  },
  {
   "cell_type": "code",
   "execution_count": 41,
   "metadata": {
    "slideshow": {
     "slide_type": "fragment"
    }
   },
   "outputs": [
    {
     "name": "stdout",
     "output_type": "stream",
     "text": [
      "0\n",
      "20\n",
      "40\n",
      "60\n",
      "80\n"
     ]
    }
   ],
   "source": [
    "for i in range(0, 100, 20):\n",
    "    print(i)"
   ]
  },
  {
   "cell_type": "markdown",
   "metadata": {
    "slideshow": {
     "slide_type": "subslide"
    }
   },
   "source": [
    "For example we may wish to build a dataset from a range by `append`ing in a loop:"
   ]
  },
  {
   "cell_type": "code",
   "execution_count": 42,
   "metadata": {
    "slideshow": {
     "slide_type": "fragment"
    }
   },
   "outputs": [
    {
     "data": {
      "text/plain": [
       "[55.0, 64.0, 73.0, 82.0, 91.0, 100.0, 109.0, 118.0, 127.0, 136.0, 145.0, 154.0]"
      ]
     },
     "execution_count": 42,
     "metadata": {},
     "output_type": "execute_result"
    }
   ],
   "source": [
    "predicted_hr = []\n",
    "\n",
    "for hr in range(60, 180, 10):\n",
    "    predicted_hr.append(0.9 * hr + 1)\n",
    "    \n",
    "predicted_hr"
   ]
  },
  {
   "cell_type": "markdown",
   "metadata": {
    "slideshow": {
     "slide_type": "subslide"
    }
   },
   "source": [
    "## How do I loop with an index?\n"
   ]
  },
  {
   "cell_type": "markdown",
   "metadata": {
    "slideshow": {
     "slide_type": "fragment"
    }
   },
   "source": [
    "- The `enumerate()` function takes a collection (e.g. a tuple) and returns it as an enumerate object.\n",
    "- The `enumerate()` function adds a counter as the key of the enumerate object.\n",
    "- Syntax: `enumerate(iterable, start)`\n",
    "- Parameters:\n",
    "    - iterable:\tAn iterable object\n",
    "    - start:\tA Number. Defining the start number of the enumerate object. Default 0\n"
   ]
  },
  {
   "cell_type": "code",
   "execution_count": 43,
   "metadata": {
    "slideshow": {
     "slide_type": "fragment"
    }
   },
   "outputs": [],
   "source": [
    "hr_readings = [70,50,60,80]"
   ]
  },
  {
   "cell_type": "code",
   "execution_count": 44,
   "metadata": {
    "slideshow": {
     "slide_type": "fragment"
    }
   },
   "outputs": [
    {
     "name": "stdout",
     "output_type": "stream",
     "text": [
      "70\n",
      "50\n",
      "60\n",
      "80\n"
     ]
    }
   ],
   "source": [
    "for hr in hr_readings:\n",
    "    print(hr)"
   ]
  },
  {
   "cell_type": "code",
   "execution_count": 45,
   "metadata": {
    "slideshow": {
     "slide_type": "fragment"
    }
   },
   "outputs": [
    {
     "name": "stdout",
     "output_type": "stream",
     "text": [
      "Reading 1 was 70 bpm\n",
      "Reading 2 was 50 bpm\n",
      "Reading 3 was 60 bpm\n",
      "Reading 4 was 80 bpm\n"
     ]
    }
   ],
   "source": [
    "for i, hr in enumerate(hr_readings):\n",
    "    print(f\"Reading {i + 1} was {hr} bpm\")"
   ]
  },
  {
   "cell_type": "markdown",
   "metadata": {
    "slideshow": {
     "slide_type": "subslide"
    }
   },
   "source": [
    "## What more should I be aware of with looping in python?"
   ]
  },
  {
   "cell_type": "markdown",
   "metadata": {
    "slideshow": {
     "slide_type": "fragment"
    }
   },
   "source": [
    "The basic `for` loop can do almost everything you need. But, as above, helpers like `zip()`, `range()`, `enumerate()` exist to make looping easier. \n",
    "\n",
    "There is also:\n",
    "* `sorted()`\n",
    "* `reversed()`\n",
    "* ... \n",
    "\n",
    "For this course we are aiming to basic looping patterns, but these are worth further study. "
   ]
  },
  {
   "cell_type": "markdown",
   "metadata": {
    "graffitiCellId": "id_7ephlpc",
    "slideshow": {
     "slide_type": "slide"
    }
   },
   "source": [
    "### Type Conversions"
   ]
  },
  {
   "cell_type": "code",
   "execution_count": 46,
   "metadata": {
    "graffitiCellId": "id_5mhu108",
    "slideshow": {
     "slide_type": "fragment"
    }
   },
   "outputs": [
    {
     "name": "stdout",
     "output_type": "stream",
     "text": [
      "range(0, 10)\n"
     ]
    }
   ],
   "source": [
    "# iterators -- like data structures, but whole data not stored...\n",
    "\n",
    "ten = range(0, 10)\n",
    "\n",
    "print(ten)"
   ]
  },
  {
   "cell_type": "code",
   "execution_count": 47,
   "metadata": {
    "graffitiCellId": "id_uhyla2h",
    "slideshow": {
     "slide_type": "fragment"
    }
   },
   "outputs": [
    {
     "name": "stdout",
     "output_type": "stream",
     "text": [
      "0\n",
      "1\n",
      "2\n",
      "3\n",
      "4\n",
      "5\n",
      "6\n",
      "7\n",
      "8\n",
      "9\n"
     ]
    }
   ],
   "source": [
    "for i in ten:      # the range gives a number each go around\n",
    "    print(i)"
   ]
  },
  {
   "cell_type": "code",
   "execution_count": 48,
   "metadata": {
    "graffitiCellId": "id_2qlzbr9",
    "slideshow": {
     "slide_type": "fragment"
    }
   },
   "outputs": [
    {
     "data": {
      "text/plain": [
       "[0, 1, 2, 3, 4, 5, 6, 7, 8, 9]"
      ]
     },
     "execution_count": 48,
     "metadata": {},
     "output_type": "execute_result"
    }
   ],
   "source": [
    "numbers = list(ten) # collects all data from ten into list, which stores all in memory\n",
    "\n",
    "numbers"
   ]
  },
  {
   "cell_type": "code",
   "execution_count": 49,
   "metadata": {
    "graffitiCellId": "id_xxmsji6",
    "slideshow": {
     "slide_type": "subslide"
    }
   },
   "outputs": [
    {
     "ename": "TypeError",
     "evalue": "'<' not supported between instances of 'str' and 'int'",
     "output_type": "error",
     "traceback": [
      "\u001b[0;31m---------------------------------------------------------------------------\u001b[0m",
      "\u001b[0;31mTypeError\u001b[0m                                 Traceback (most recent call last)",
      "\u001b[0;32m<ipython-input-49-387956351189>\u001b[0m in \u001b[0;36m<module>\u001b[0;34m\u001b[0m\n\u001b[1;32m      1\u001b[0m \u001b[0mage\u001b[0m \u001b[0;34m=\u001b[0m \u001b[0;34m\"18\"\u001b[0m\u001b[0;34m\u001b[0m\u001b[0;34m\u001b[0m\u001b[0m\n\u001b[1;32m      2\u001b[0m \u001b[0;34m\u001b[0m\u001b[0m\n\u001b[0;32m----> 3\u001b[0;31m \u001b[0mage\u001b[0m \u001b[0;34m<\u001b[0m \u001b[0;36m20\u001b[0m\u001b[0;34m\u001b[0m\u001b[0;34m\u001b[0m\u001b[0m\n\u001b[0m",
      "\u001b[0;31mTypeError\u001b[0m: '<' not supported between instances of 'str' and 'int'"
     ]
    }
   ],
   "source": [
    "age = \"18\"\n",
    "\n",
    "age < 20"
   ]
  },
  {
   "cell_type": "code",
   "execution_count": 50,
   "metadata": {
    "graffitiCellId": "id_70xhoie",
    "slideshow": {
     "slide_type": "fragment"
    }
   },
   "outputs": [
    {
     "data": {
      "text/plain": [
       "True"
      ]
     },
     "execution_count": 50,
     "metadata": {},
     "output_type": "execute_result"
    }
   ],
   "source": [
    "int(age) < 20"
   ]
  },
  {
   "cell_type": "code",
   "execution_count": 51,
   "metadata": {
    "graffitiCellId": "id_assptqz",
    "slideshow": {
     "slide_type": "subslide"
    }
   },
   "outputs": [
    {
     "data": {
      "text/plain": [
       "'55'"
      ]
     },
     "execution_count": 51,
     "metadata": {},
     "output_type": "execute_result"
    }
   ],
   "source": [
    "str(5) * 2  # \"5\" * 2"
   ]
  },
  {
   "cell_type": "code",
   "execution_count": 52,
   "metadata": {
    "graffitiCellId": "id_fovcpad",
    "slideshow": {
     "slide_type": "fragment"
    }
   },
   "outputs": [
    {
     "data": {
      "text/plain": [
       "{'name': 'Michael', 'age': 29}"
      ]
     },
     "execution_count": 52,
     "metadata": {},
     "output_type": "execute_result"
    }
   ],
   "source": [
    "dict( [ (\"name\", \"Michael\"), (\"age\", 29 )])"
   ]
  }
 ],
 "metadata": {
  "celltoolbar": "Slideshow",
  "graffiti": {
   "firstAuthorId": "dev",
   "id": "id_o268vaa",
   "language": "EN"
  },
  "kernelspec": {
   "display_name": "Python 3",
   "language": "python",
   "name": "python3"
  },
  "language_info": {
   "codemirror_mode": {
    "name": "ipython",
    "version": 3
   },
   "file_extension": ".py",
   "mimetype": "text/x-python",
   "name": "python",
   "nbconvert_exporter": "python",
   "pygments_lexer": "ipython3",
   "version": "3.7.4"
  }
 },
 "nbformat": 4,
 "nbformat_minor": 2
}
