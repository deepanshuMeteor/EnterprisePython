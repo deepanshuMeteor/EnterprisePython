{
  "nbformat": 4,
  "nbformat_minor": 0,
  "metadata": {
    "colab": {
      "provenance": []
    },
    "kernelspec": {
      "name": "python3",
      "display_name": "Python 3"
    },
    "language_info": {
      "name": "python"
    }
  },
  "cells": [
    {
      "cell_type": "markdown",
      "source": [
        "Welcome to our python refresher!"
      ],
      "metadata": {
        "id": "1wJCsWOaLemt"
      }
    },
    {
      "cell_type": "markdown",
      "source": [
        "Let's review the data structures quickly"
      ],
      "metadata": {
        "id": "fby6mpU4LhQe"
      }
    },
    {
      "cell_type": "markdown",
      "source": [
        "List is an array of heterogeneous data. You can store anything in a list. They are represented by square [ ] brackets."
      ],
      "metadata": {
        "id": "n8_4z0a2Lj3p"
      }
    },
    {
      "cell_type": "code",
      "execution_count": null,
      "metadata": {
        "id": "hiw7xR6pLa_7"
      },
      "outputs": [],
      "source": [
        "mylist = [ 1, False, '42', 'cattlestar galactica',0.0, 42]"
      ]
    },
    {
      "cell_type": "markdown",
      "source": [
        "List is ordered and indexed"
      ],
      "metadata": {
        "id": "WSHh2odLLx4i"
      }
    },
    {
      "cell_type": "code",
      "source": [
        "mylist[0], mylist[-1] #indexing makes it possible!"
      ],
      "metadata": {
        "colab": {
          "base_uri": "https://localhost:8080/"
        },
        "id": "61G_qqxTLw_E",
        "outputId": "b417088d-dfb7-41d2-ec12-e27e5e21420f"
      },
      "execution_count": null,
      "outputs": [
        {
          "output_type": "execute_result",
          "data": {
            "text/plain": [
              "(1, 42)"
            ]
          },
          "metadata": {},
          "execution_count": 8
        }
      ]
    },
    {
      "cell_type": "markdown",
      "source": [
        "You can modify a list"
      ],
      "metadata": {
        "id": "1QVuuIBKM2Rs"
      }
    },
    {
      "cell_type": "code",
      "source": [
        "mylist[0] = 0\n",
        "mylist.append('bye bye')\n",
        "mylist"
      ],
      "metadata": {
        "colab": {
          "base_uri": "https://localhost:8080/"
        },
        "id": "ue7FOK9PL28x",
        "outputId": "6fb56ec0-2329-4551-9b0e-0ecee30948ee"
      },
      "execution_count": null,
      "outputs": [
        {
          "output_type": "execute_result",
          "data": {
            "text/plain": [
              "[0, False, '42', 'cattlestar galactica', 0.0, 42, 'bye bye']"
            ]
          },
          "metadata": {},
          "execution_count": 9
        }
      ]
    },
    {
      "cell_type": "markdown",
      "source": [
        "You may recall 'Sets' from mathematics. In a set, every value is unique and mentioned only once. Sets are represented by curly braces { }. A set of {banana, apple} is same as a set of {apple, banana}. "
      ],
      "metadata": {
        "id": "S7L6JJCROMvP"
      }
    },
    {
      "cell_type": "code",
      "source": [
        "myset = {'apple', 'banana', 'apple', 42, 42}\n",
        "myset"
      ],
      "metadata": {
        "colab": {
          "base_uri": "https://localhost:8080/"
        },
        "id": "7gQeZXzZM-dJ",
        "outputId": "10d4e97b-cbf1-4096-d4f2-dcf567ee4165"
      },
      "execution_count": null,
      "outputs": [
        {
          "output_type": "execute_result",
          "data": {
            "text/plain": [
              "{42, 'apple', 'banana'}"
            ]
          },
          "metadata": {},
          "execution_count": 10
        }
      ]
    },
    {
      "cell_type": "markdown",
      "source": [
        "Observation- is set indexed and ordered?"
      ],
      "metadata": {
        "id": "HHjCmWPDOlXn"
      }
    },
    {
      "cell_type": "markdown",
      "source": [
        "Now observe the following action-"
      ],
      "metadata": {
        "id": "WXCKP28sOq3b"
      }
    },
    {
      "cell_type": "code",
      "source": [
        "myset = set(mylist)\n",
        "myset"
      ],
      "metadata": {
        "colab": {
          "base_uri": "https://localhost:8080/"
        },
        "id": "jd6ws4sqOjx4",
        "outputId": "8f1597b1-9dc0-40b2-a02d-6c6e827412e6"
      },
      "execution_count": null,
      "outputs": [
        {
          "output_type": "execute_result",
          "data": {
            "text/plain": [
              "{0, 42, '42', 'bye bye', 'cattlestar galactica'}"
            ]
          },
          "metadata": {},
          "execution_count": 11
        }
      ]
    },
    {
      "cell_type": "markdown",
      "source": [
        "Where did False go? Where is 0.0? Why do you think this happened?"
      ],
      "metadata": {
        "id": "FWojkZBFOy9Z"
      }
    },
    {
      "cell_type": "markdown",
      "source": [
        "Tuples are readonly structures. Once created, they cannot be edited. Sets are represented by round ( ) brackets."
      ],
      "metadata": {
        "id": "KnZZSF2JPDHC"
      }
    },
    {
      "cell_type": "code",
      "source": [
        "mytup = (1,2,3)\n",
        "mytup"
      ],
      "metadata": {
        "colab": {
          "base_uri": "https://localhost:8080/"
        },
        "id": "ddNgBW3TOxdD",
        "outputId": "a62966d1-df0e-4b72-ee8b-628e3629c34a"
      },
      "execution_count": null,
      "outputs": [
        {
          "output_type": "execute_result",
          "data": {
            "text/plain": [
              "(1, 2, 3)"
            ]
          },
          "metadata": {},
          "execution_count": 12
        }
      ]
    },
    {
      "cell_type": "markdown",
      "source": [
        "Tuples are indexed and ordered too!"
      ],
      "metadata": {
        "id": "LyVDDqqTP0dz"
      }
    },
    {
      "cell_type": "code",
      "source": [
        "mytup[-2]"
      ],
      "metadata": {
        "colab": {
          "base_uri": "https://localhost:8080/"
        },
        "id": "_3beg1J_P2du",
        "outputId": "71481af3-082b-4a47-f576-a79c4953db75"
      },
      "execution_count": null,
      "outputs": [
        {
          "output_type": "execute_result",
          "data": {
            "text/plain": [
              "2"
            ]
          },
          "metadata": {},
          "execution_count": 18
        }
      ]
    },
    {
      "cell_type": "markdown",
      "source": [
        "below line should throw us an exception"
      ],
      "metadata": {
        "id": "qZUuAZuwPRjS"
      }
    },
    {
      "cell_type": "code",
      "source": [
        "try:\n",
        "  mytup[0] = 2\n",
        "except Exception as ex:\n",
        "  print(ex)"
      ],
      "metadata": {
        "colab": {
          "base_uri": "https://localhost:8080/"
        },
        "id": "EMcNivksPQSm",
        "outputId": "6c442ccc-c030-40ab-e7fd-d8a5256e963c"
      },
      "execution_count": null,
      "outputs": [
        {
          "output_type": "stream",
          "name": "stdout",
          "text": [
            "'tuple' object does not support item assignment\n"
          ]
        }
      ]
    },
    {
      "cell_type": "markdown",
      "source": [
        "Dictionaries are sets of key-value pairs. They are indexed unlike sets- the keys serve as index and belong to any data type."
      ],
      "metadata": {
        "id": "aC-fvy89P95E"
      }
    },
    {
      "cell_type": "code",
      "source": [
        "myvocab = { \"hello\": \"world\",\n",
        "           \"a list\": mylist,\n",
        "           42 : -42,\n",
        "           True: \"okay\",\n",
        "           False : 0}\n",
        "myvocab[False]"
      ],
      "metadata": {
        "colab": {
          "base_uri": "https://localhost:8080/"
        },
        "id": "WbPttQedPbol",
        "outputId": "9f367f04-18d6-49a0-acf8-1fc17271d1a8"
      },
      "execution_count": null,
      "outputs": [
        {
          "output_type": "execute_result",
          "data": {
            "text/plain": [
              "0"
            ]
          },
          "metadata": {},
          "execution_count": 19
        }
      ]
    },
    {
      "cell_type": "code",
      "source": [
        "myvocab['a list']"
      ],
      "metadata": {
        "colab": {
          "base_uri": "https://localhost:8080/"
        },
        "id": "841YLDJeQQZ8",
        "outputId": "121bbed9-08ea-428e-8cf4-c8225da3d7ef"
      },
      "execution_count": null,
      "outputs": [
        {
          "output_type": "execute_result",
          "data": {
            "text/plain": [
              "[0, False, '42', 'cattlestar galactica', 0.0, 42, 'bye bye']"
            ]
          },
          "metadata": {},
          "execution_count": 20
        }
      ]
    },
    {
      "cell_type": "markdown",
      "source": [
        "Data structures can accept other data structures as their elements!"
      ],
      "metadata": {
        "id": "M42wjoqaQUln"
      }
    },
    {
      "cell_type": "code",
      "source": [
        "complex_list = [mylist, mytup, myset]"
      ],
      "metadata": {
        "id": "XEjTkqAgQSpg"
      },
      "execution_count": null,
      "outputs": []
    },
    {
      "cell_type": "code",
      "source": [
        "complex_list[-1]"
      ],
      "metadata": {
        "colab": {
          "base_uri": "https://localhost:8080/"
        },
        "id": "EWyzsfZeQbOq",
        "outputId": "66dc0972-37f5-48c1-b570-2e7fdcb282ad"
      },
      "execution_count": null,
      "outputs": [
        {
          "output_type": "execute_result",
          "data": {
            "text/plain": [
              "{0, 42, '42', 'bye bye', 'cattlestar galactica'}"
            ]
          },
          "metadata": {},
          "execution_count": 22
        }
      ]
    },
    {
      "cell_type": "markdown",
      "source": [
        "Well, all except the set"
      ],
      "metadata": {
        "id": "Ne0Cfi6KQfKi"
      }
    },
    {
      "cell_type": "code",
      "source": [
        "try:\n",
        "  mycomplexset = {mytup, mylist}\n",
        "except Exception as ex:\n",
        "  print(ex)"
      ],
      "metadata": {
        "colab": {
          "base_uri": "https://localhost:8080/"
        },
        "id": "6bhOqqJlQdDy",
        "outputId": "77f9c3c8-7263-42e3-eaa5-7e84147da1a0"
      },
      "execution_count": null,
      "outputs": [
        {
          "output_type": "stream",
          "name": "stdout",
          "text": [
            "unhashable type: 'list'\n"
          ]
        }
      ]
    },
    {
      "cell_type": "markdown",
      "source": [
        "Lambda functions are 1 line executions!\n",
        "\n",
        "\n",
        "Syntax is->\n",
        "\n",
        "lambda input: what_to_return"
      ],
      "metadata": {
        "id": "E7EJlFJUQsfV"
      }
    },
    {
      "cell_type": "code",
      "source": [
        "squares = lambda val: val ** 2"
      ],
      "metadata": {
        "id": "37IHmXiMQjzb"
      },
      "execution_count": null,
      "outputs": []
    },
    {
      "cell_type": "code",
      "source": [
        "squares(10)"
      ],
      "metadata": {
        "colab": {
          "base_uri": "https://localhost:8080/"
        },
        "id": "5qNODMyuQ8-k",
        "outputId": "467baf57-e98e-42c8-81c3-855faf1f85e1"
      },
      "execution_count": null,
      "outputs": [
        {
          "output_type": "execute_result",
          "data": {
            "text/plain": [
              "100"
            ]
          },
          "metadata": {},
          "execution_count": 26
        }
      ]
    },
    {
      "cell_type": "markdown",
      "source": [
        "You can combine lambdas with regular functions to generate multiple functions with same logic. In the below example, we create 3 fake currencies with different exchange rates."
      ],
      "metadata": {
        "id": "7t-Fx-FcRA8k"
      }
    },
    {
      "cell_type": "code",
      "source": [
        "def currency(exchange_rate):\n",
        "  return lambda val: val*exchange_rate"
      ],
      "metadata": {
        "id": "IEbDUCQmQ-Ot"
      },
      "execution_count": null,
      "outputs": []
    },
    {
      "cell_type": "code",
      "source": [
        "imaginary_dollar1 = currency(42) #exchange rate 42\n",
        "imaginary_dollar2 = currency(10) #exchange rate 10\n",
        "imaginary_dollar3 = currency(0.1) #exchange rate 0.1\n"
      ],
      "metadata": {
        "id": "Bhe56cNfRYer"
      },
      "execution_count": null,
      "outputs": []
    },
    {
      "cell_type": "markdown",
      "source": [
        "Now let's see what's our $100 in these 3 imaginary currencies"
      ],
      "metadata": {
        "id": "K89UaA0fRosk"
      }
    },
    {
      "cell_type": "code",
      "source": [
        "original_usd_value = 100"
      ],
      "metadata": {
        "id": "d-iDsHgRRlwj"
      },
      "execution_count": null,
      "outputs": []
    },
    {
      "cell_type": "code",
      "source": [
        "imaginary_dollar1(original_usd_value)"
      ],
      "metadata": {
        "colab": {
          "base_uri": "https://localhost:8080/"
        },
        "id": "qEInlskORuB4",
        "outputId": "6a466ef9-1234-435c-ea29-8ed243b91ace"
      },
      "execution_count": null,
      "outputs": [
        {
          "output_type": "execute_result",
          "data": {
            "text/plain": [
              "4200"
            ]
          },
          "metadata": {},
          "execution_count": 30
        }
      ]
    },
    {
      "cell_type": "code",
      "source": [
        "imaginary_dollar2(original_usd_value)"
      ],
      "metadata": {
        "colab": {
          "base_uri": "https://localhost:8080/"
        },
        "id": "apdqG2KXRw69",
        "outputId": "131fe4a4-c6e0-42a1-f32a-6efcd7fc862f"
      },
      "execution_count": null,
      "outputs": [
        {
          "output_type": "execute_result",
          "data": {
            "text/plain": [
              "1000"
            ]
          },
          "metadata": {},
          "execution_count": 32
        }
      ]
    },
    {
      "cell_type": "code",
      "source": [
        "imaginary_dollar3(original_usd_value)"
      ],
      "metadata": {
        "colab": {
          "base_uri": "https://localhost:8080/"
        },
        "id": "PT65Nl0IR0o8",
        "outputId": "dde9c144-2a4e-407e-d678-58ceb47d19e8"
      },
      "execution_count": null,
      "outputs": [
        {
          "output_type": "execute_result",
          "data": {
            "text/plain": [
              "10.0"
            ]
          },
          "metadata": {},
          "execution_count": 33
        }
      ]
    },
    {
      "cell_type": "markdown",
      "source": [
        "List comprehensions can combine with lambdas to transform data. "
      ],
      "metadata": {
        "id": "ex-O-26BSDOh"
      }
    },
    {
      "cell_type": "code",
      "source": [
        "initlist = [ 1, 2, 3, 4, 5]\n",
        "logic = lambda val: val**2 #square of the number\n",
        "newlist = [ logic(item) for item in initlist]\n",
        "newlist"
      ],
      "metadata": {
        "colab": {
          "base_uri": "https://localhost:8080/"
        },
        "id": "E-hu83mJR14r",
        "outputId": "7d7ec873-ff8f-41cc-c61c-ac7b21c92771"
      },
      "execution_count": null,
      "outputs": [
        {
          "output_type": "execute_result",
          "data": {
            "text/plain": [
              "[1, 4, 9, 16, 25]"
            ]
          },
          "metadata": {},
          "execution_count": 34
        }
      ]
    },
    {
      "cell_type": "markdown",
      "source": [
        "Let's try one more example."
      ],
      "metadata": {
        "id": "sLn1A6lFYn0U"
      }
    },
    {
      "cell_type": "code",
      "source": [
        "city_names = {\n",
        "    \"Egypt\": \"Cairo\" ,\n",
        "    \"South Africa\" : \"Cape Town\",\n",
        "    \"Ireland\" : \"Dublin\",\n",
        "    \"Japan\" : \"Tokyo\"\n",
        "}\n"
      ],
      "metadata": {
        "id": "AT-i0GnXYhlf"
      },
      "execution_count": null,
      "outputs": []
    },
    {
      "cell_type": "markdown",
      "source": [
        "Just like lists, we can apply comprehensions on dictionaries too! For exmaple, we could reverse a dictionary by using the following:"
      ],
      "metadata": {
        "id": "sfu45acbZKIp"
      }
    },
    {
      "cell_type": "code",
      "source": [
        "country_names = { city:country for country,city in city_names.items()}"
      ],
      "metadata": {
        "id": "DLZZrGKFZJip"
      },
      "execution_count": null,
      "outputs": []
    },
    {
      "cell_type": "code",
      "source": [
        "country_names"
      ],
      "metadata": {
        "colab": {
          "base_uri": "https://localhost:8080/"
        },
        "id": "xfq09hgHZdY9",
        "outputId": "6f539681-c04d-4846-fbe7-9b37fe98f9aa"
      },
      "execution_count": null,
      "outputs": [
        {
          "output_type": "execute_result",
          "data": {
            "text/plain": [
              "{'Cairo': 'Egypt',\n",
              " 'Cape Town': 'South Africa',\n",
              " 'Dublin': 'Ireland',\n",
              " 'Tokyo': 'Japan'}"
            ]
          },
          "metadata": {},
          "execution_count": 37
        }
      ]
    },
    {
      "cell_type": "markdown",
      "source": [
        "This was a very quick recap of some of the must-know and important utilities. "
      ],
      "metadata": {
        "id": "iAfWJdHgZlXk"
      }
    },
    {
      "cell_type": "code",
      "source": [],
      "metadata": {
        "id": "YZEPgNMTZedT"
      },
      "execution_count": null,
      "outputs": []
    }
  ]
}